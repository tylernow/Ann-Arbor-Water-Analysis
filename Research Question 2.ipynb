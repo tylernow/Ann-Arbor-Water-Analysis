{
 "cells": [
  {
   "cell_type": "markdown",
   "id": "cdf9edf4-e57a-4ef3-a765-fa96a71c44e7",
   "metadata": {},
   "source": [
    "## Research Question 2 \n",
    " In what manner does the material composition of water mains impact the probability and susceptibility of the water main to experience breakage or failure?"
   ]
  },
  {
   "cell_type": "code",
   "execution_count": 1,
   "id": "261a7390-e508-4911-bd81-86573075c10e",
   "metadata": {},
   "outputs": [],
   "source": [
    "#load libraries\n",
    "import pandas as pd\n",
    "import matplotlib.pyplot as plt"
   ]
  },
  {
   "cell_type": "markdown",
   "id": "a8a1b4fd-43e9-4f32-a60b-b691dc171ac2",
   "metadata": {},
   "source": [
    "## Merge the datasets\n",
    "Again merge the watermain attribures and breaks. Basically redoing some parts from question 1"
   ]
  },
  {
   "cell_type": "code",
   "execution_count": 2,
   "id": "8ffd9ab6-f002-41fc-866a-4864f79f8053",
   "metadata": {},
   "outputs": [],
   "source": [
    "#read in both datasets\n",
    "watermain_att = pd.read_csv('Watermain_Attributes.csv')\n",
    "water_breaks = pd.read_csv('Watermain_Breaks_Reporting.csv')"
   ]
  },
  {
   "cell_type": "code",
   "execution_count": 3,
   "id": "3825a87d-ec7d-465b-913c-e2ea474ad378",
   "metadata": {},
   "outputs": [],
   "source": [
    "#Changing watermain_att column for work order ids to match the water_breaks column so i can merge the datasets\n",
    "watermain_att = watermain_att.rename(columns = {'WORKORDERI': 'Work Order ID'})"
   ]
  },
  {
   "cell_type": "code",
   "execution_count": 4,
   "id": "b75476f4-b81c-465e-bc12-896233bd0c2f",
   "metadata": {},
   "outputs": [],
   "source": [
    "#merging the two data sets\n",
    "merged_df = pd.merge(watermain_att, water_breaks, on='Work Order ID')"
   ]
  },
  {
   "cell_type": "code",
   "execution_count": 6,
   "id": "8a77987d-fd08-4f95-833d-f65b3ee28f90",
   "metadata": {},
   "outputs": [],
   "source": [
    "#changing the column installdat to datetime so it is easier to work with\n",
    "merged_df['INSTALLDAT'] = pd.to_datetime(merged_df['INSTALLDAT'], errors = 'coerce')"
   ]
  },
  {
   "cell_type": "markdown",
   "id": "62d2efc1-c6c7-4412-bfcb-746b736aeca7",
   "metadata": {},
   "source": [
    "## Cleaning Data\n",
    "Cleaning data again to only contain the columns I need to look at "
   ]
  },
  {
   "cell_type": "code",
   "execution_count": 7,
   "id": "2a0c300a-c953-4c26-a0f1-6f7e6514ccdc",
   "metadata": {},
   "outputs": [
    {
     "data": {
      "text/plain": [
       "0      CI\n",
       "1      CI\n",
       "2      DI\n",
       "3      DI\n",
       "4      CI\n",
       "       ..\n",
       "857    CI\n",
       "858    DI\n",
       "859    CI\n",
       "860    CI\n",
       "861    CI\n",
       "Name: MATERIAL, Length: 862, dtype: object"
      ]
     },
     "execution_count": 7,
     "metadata": {},
     "output_type": "execute_result"
    }
   ],
   "source": [
    "merged_df['MATERIAL']"
   ]
  },
  {
   "cell_type": "code",
   "execution_count": 8,
   "id": "60d4abde-bd12-4671-ac27-464937484b60",
   "metadata": {},
   "outputs": [],
   "source": [
    "#Only keeping the columns that I will be working with to make the data more readable\n",
    "clean_df = merged_df[['Work Order ID','MATERIAL','Priority', 'Actual Start', 'Actual Finish',\n",
    "                     'Canceled', 'INSTALLDAT']].copy()\n",
    "# Change the Actual Start into a date time object so I can make a new column using start and install date\n",
    "clean_df['Actual Start'] = pd.to_datetime(clean_df['Actual Start'])"
   ]
  },
  {
   "cell_type": "code",
   "execution_count": 9,
   "id": "7c1bde44-cb5e-4414-b7a0-08954e292e3b",
   "metadata": {},
   "outputs": [],
   "source": [
    "#Decided to drop rows that contain a null value in the actual start because I do not know when the watermain break\n",
    "# occured and that could hurt the data\n",
    "clean_df = clean_df.dropna(subset = ['Actual Start'])"
   ]
  },
  {
   "cell_type": "code",
   "execution_count": 10,
   "id": "07ccad0b-883f-4b79-8522-c02221039caf",
   "metadata": {},
   "outputs": [],
   "source": [
    "#I wanted to see if there were any cancleled work orders in the dataset because even though I do not know why it was canceled\n",
    "#the pipe is probably not broken and there was a different problem. \n",
    "clean_df = clean_df[clean_df['Canceled'] != 'Y']"
   ]
  },
  {
   "cell_type": "code",
   "execution_count": 11,
   "id": "2eb7f152-d5d3-4978-8cd8-48781172215e",
   "metadata": {},
   "outputs": [
    {
     "data": {
      "text/html": [
       "<div>\n",
       "<style scoped>\n",
       "    .dataframe tbody tr th:only-of-type {\n",
       "        vertical-align: middle;\n",
       "    }\n",
       "\n",
       "    .dataframe tbody tr th {\n",
       "        vertical-align: top;\n",
       "    }\n",
       "\n",
       "    .dataframe thead th {\n",
       "        text-align: right;\n",
       "    }\n",
       "</style>\n",
       "<table border=\"1\" class=\"dataframe\">\n",
       "  <thead>\n",
       "    <tr style=\"text-align: right;\">\n",
       "      <th></th>\n",
       "      <th>Work Order ID</th>\n",
       "      <th>MATERIAL</th>\n",
       "      <th>Priority</th>\n",
       "      <th>Actual Start</th>\n",
       "      <th>Actual Finish</th>\n",
       "      <th>Canceled</th>\n",
       "      <th>INSTALLDAT</th>\n",
       "      <th>Pipe_Life</th>\n",
       "    </tr>\n",
       "  </thead>\n",
       "  <tbody>\n",
       "    <tr>\n",
       "      <th>1</th>\n",
       "      <td>348836</td>\n",
       "      <td>CI</td>\n",
       "      <td>1.0</td>\n",
       "      <td>2013-05-20 00:00:00</td>\n",
       "      <td>5/21/2013 0:00</td>\n",
       "      <td>N</td>\n",
       "      <td>1962-06-30</td>\n",
       "      <td>51.0</td>\n",
       "    </tr>\n",
       "    <tr>\n",
       "      <th>2</th>\n",
       "      <td>465957</td>\n",
       "      <td>DI</td>\n",
       "      <td>1.0</td>\n",
       "      <td>2015-08-03 13:29:00</td>\n",
       "      <td>8/3/2015 13:29</td>\n",
       "      <td>N</td>\n",
       "      <td>1978-07-24</td>\n",
       "      <td>37.0</td>\n",
       "    </tr>\n",
       "    <tr>\n",
       "      <th>3</th>\n",
       "      <td>382769</td>\n",
       "      <td>DI</td>\n",
       "      <td>1.0</td>\n",
       "      <td>2014-01-22 00:00:00</td>\n",
       "      <td>1/22/2014 0:00</td>\n",
       "      <td>N</td>\n",
       "      <td>1978-07-24</td>\n",
       "      <td>36.0</td>\n",
       "    </tr>\n",
       "    <tr>\n",
       "      <th>4</th>\n",
       "      <td>436334</td>\n",
       "      <td>CI</td>\n",
       "      <td>1.0</td>\n",
       "      <td>2015-01-31 00:00:00</td>\n",
       "      <td>1/31/2015 0:00</td>\n",
       "      <td>N</td>\n",
       "      <td>1960-01-01</td>\n",
       "      <td>55.0</td>\n",
       "    </tr>\n",
       "    <tr>\n",
       "      <th>5</th>\n",
       "      <td>476022</td>\n",
       "      <td>CI</td>\n",
       "      <td>1.0</td>\n",
       "      <td>2015-12-08 00:00:00</td>\n",
       "      <td>12/8/2015 0:00</td>\n",
       "      <td>N</td>\n",
       "      <td>1960-01-01</td>\n",
       "      <td>55.0</td>\n",
       "    </tr>\n",
       "    <tr>\n",
       "      <th>...</th>\n",
       "      <td>...</td>\n",
       "      <td>...</td>\n",
       "      <td>...</td>\n",
       "      <td>...</td>\n",
       "      <td>...</td>\n",
       "      <td>...</td>\n",
       "      <td>...</td>\n",
       "      <td>...</td>\n",
       "    </tr>\n",
       "    <tr>\n",
       "      <th>854</th>\n",
       "      <td>592400</td>\n",
       "      <td>CI</td>\n",
       "      <td>1.0</td>\n",
       "      <td>2018-12-12 06:00:00</td>\n",
       "      <td>12/12/2018 14:30</td>\n",
       "      <td>N</td>\n",
       "      <td>1940-01-01</td>\n",
       "      <td>78.0</td>\n",
       "    </tr>\n",
       "    <tr>\n",
       "      <th>855</th>\n",
       "      <td>477315</td>\n",
       "      <td>CI</td>\n",
       "      <td>1.0</td>\n",
       "      <td>2016-01-06 00:00:00</td>\n",
       "      <td>1/6/2016 6:00</td>\n",
       "      <td>N</td>\n",
       "      <td>1940-01-01</td>\n",
       "      <td>76.0</td>\n",
       "    </tr>\n",
       "    <tr>\n",
       "      <th>857</th>\n",
       "      <td>335133</td>\n",
       "      <td>CI</td>\n",
       "      <td>1.0</td>\n",
       "      <td>2013-01-28 00:00:00</td>\n",
       "      <td>1/28/2013 0:00</td>\n",
       "      <td>N</td>\n",
       "      <td>1950-01-01</td>\n",
       "      <td>63.0</td>\n",
       "    </tr>\n",
       "    <tr>\n",
       "      <th>860</th>\n",
       "      <td>758090</td>\n",
       "      <td>CI</td>\n",
       "      <td>1.0</td>\n",
       "      <td>2021-11-20 01:30:00</td>\n",
       "      <td>11/20/2021 9:30</td>\n",
       "      <td>N</td>\n",
       "      <td>1960-01-01</td>\n",
       "      <td>61.0</td>\n",
       "    </tr>\n",
       "    <tr>\n",
       "      <th>861</th>\n",
       "      <td>832157</td>\n",
       "      <td>CI</td>\n",
       "      <td>1.0</td>\n",
       "      <td>2023-02-23 18:10:00</td>\n",
       "      <td>2/23/2023 22:42</td>\n",
       "      <td>N</td>\n",
       "      <td>1961-04-04</td>\n",
       "      <td>62.0</td>\n",
       "    </tr>\n",
       "  </tbody>\n",
       "</table>\n",
       "<p>482 rows × 8 columns</p>\n",
       "</div>"
      ],
      "text/plain": [
       "     Work Order ID MATERIAL  Priority        Actual Start     Actual Finish  \\\n",
       "1           348836       CI       1.0 2013-05-20 00:00:00    5/21/2013 0:00   \n",
       "2           465957       DI       1.0 2015-08-03 13:29:00    8/3/2015 13:29   \n",
       "3           382769       DI       1.0 2014-01-22 00:00:00    1/22/2014 0:00   \n",
       "4           436334       CI       1.0 2015-01-31 00:00:00    1/31/2015 0:00   \n",
       "5           476022       CI       1.0 2015-12-08 00:00:00    12/8/2015 0:00   \n",
       "..             ...      ...       ...                 ...               ...   \n",
       "854         592400       CI       1.0 2018-12-12 06:00:00  12/12/2018 14:30   \n",
       "855         477315       CI       1.0 2016-01-06 00:00:00     1/6/2016 6:00   \n",
       "857         335133       CI       1.0 2013-01-28 00:00:00    1/28/2013 0:00   \n",
       "860         758090       CI       1.0 2021-11-20 01:30:00   11/20/2021 9:30   \n",
       "861         832157       CI       1.0 2023-02-23 18:10:00   2/23/2023 22:42   \n",
       "\n",
       "    Canceled INSTALLDAT  Pipe_Life  \n",
       "1          N 1962-06-30       51.0  \n",
       "2          N 1978-07-24       37.0  \n",
       "3          N 1978-07-24       36.0  \n",
       "4          N 1960-01-01       55.0  \n",
       "5          N 1960-01-01       55.0  \n",
       "..       ...        ...        ...  \n",
       "854        N 1940-01-01       78.0  \n",
       "855        N 1940-01-01       76.0  \n",
       "857        N 1950-01-01       63.0  \n",
       "860        N 1960-01-01       61.0  \n",
       "861        N 1961-04-04       62.0  \n",
       "\n",
       "[482 rows x 8 columns]"
      ]
     },
     "execution_count": 11,
     "metadata": {},
     "output_type": "execute_result"
    }
   ],
   "source": [
    "#Create the new column pipe age that represents how long the pipe went without breaking\n",
    "clean_df['Pipe_Life'] = clean_df['Actual Start'].dt.year - clean_df['INSTALLDAT'].dt.year\n",
    "clean_df"
   ]
  },
  {
   "cell_type": "markdown",
   "id": "fc698fa6-e48a-4b2f-83c4-60b449c10b46",
   "metadata": {},
   "source": [
    "## Graph for water main material composition and pipe life\n",
    "Below is the graph for the material composition of the pipes and average pipes life from that material"
   ]
  },
  {
   "cell_type": "code",
   "execution_count": 12,
   "id": "230f1845-23a3-457a-bf05-6e4c8a94d6c5",
   "metadata": {},
   "outputs": [
    {
     "data": {
      "image/png": "[encoded data removed]",
      "text/plain": [
       "<Figure size 1000x600 with 1 Axes>"
      ]
     },
     "metadata": {},
     "output_type": "display_data"
    }
   ],
   "source": [
    "# Grouping by 'MATERIAL' and calculating the mean 'Pipe_Life' for each material\n",
    "material_pipe_life = clean_df.groupby('MATERIAL')['Pipe_Life'].mean()\n",
    "\n",
    "# Creating a bar plot\n",
    "plt.figure(figsize=(10, 6))\n",
    "material_pipe_life.plot(kind='bar', color='skyblue')\n",
    "plt.title('Average Pipe Life by Material')\n",
    "plt.xlabel('Material')\n",
    "plt.ylabel('Average Pipe Life (Years)')\n",
    "plt.xticks(rotation=45)\n",
    "plt.show()"
   ]
  },
  {
   "cell_type": "code",
   "execution_count": 13,
   "id": "9bcc3cd1-0e95-4c82-aa13-f4a0302708e5",
   "metadata": {},
   "outputs": [
    {
     "data": {
      "text/plain": [
       "MATERIAL\n",
       "AC        1\n",
       "CI      373\n",
       "DI      103\n",
       "HDPE      1\n",
       "PVC       1\n",
       "ST        1\n",
       "STL       2\n",
       "dtype: int64"
      ]
     },
     "execution_count": 13,
     "metadata": {},
     "output_type": "execute_result"
    }
   ],
   "source": [
    "#I think it is important to check to see how many pipes are in each category and how it could be skewed\n",
    "clean_df.groupby(\"MATERIAL\").size()"
   ]
  },
  {
   "cell_type": "code",
   "execution_count": 14,
   "id": "19b04c35-cdb9-4033-ba92-8b236ce32896",
   "metadata": {},
   "outputs": [
    {
     "data": {
      "text/plain": [
       "MATERIAL\n",
       "AC        5\n",
       "CI      657\n",
       "DI      195\n",
       "HDPE      1\n",
       "PVC       1\n",
       "ST        1\n",
       "STL       2\n",
       "dtype: int64"
      ]
     },
     "execution_count": 14,
     "metadata": {},
     "output_type": "execute_result"
    }
   ],
   "source": [
    "#Checking to see how many are in the merged dataset not only the ones that have broken.\n",
    "merged_df.groupby(\"MATERIAL\").size()"
   ]
  },
  {
   "cell_type": "code",
   "execution_count": 15,
   "id": "9b2312e6-3c95-4ac8-9393-cf2d8761b60d",
   "metadata": {},
   "outputs": [
    {
     "data": {
      "image/png": "[encoded data removed]",
      "text/plain": [
       "<Figure size 1000x600 with 1 Axes>"
      ]
     },
     "metadata": {},
     "output_type": "display_data"
    }
   ],
   "source": [
    "# Counts of breaks in clean_df\n",
    "break_counts_clean = clean_df.groupby(\"MATERIAL\").size()\n",
    "\n",
    "# Total counts of water mains in merged_df\n",
    "total_counts_merged = merged_df.groupby(\"MATERIAL\").size()\n",
    "\n",
    "# Calculate the percentage of breaks for CI and DI in clean_df\n",
    "percentage_breaks_clean = (break_counts_clean[['CI', 'DI']] / total_counts_merged[['CI', 'DI']]) * 100\n",
    "\n",
    "# Plotting the data\n",
    "plt.figure(figsize=(10, 6))\n",
    "plt.bar(['CI', 'DI'], percentage_breaks_clean.values)\n",
    "plt.xlabel('Material')\n",
    "plt.ylabel('Percentage of Breaks')\n",
    "plt.title('Percentage of Breaks for CI and DI Materials')\n",
    "plt.ylim(0, 100)\n",
    "plt.xticks(rotation=45)\n",
    "plt.show()"
   ]
  },
  {
   "cell_type": "code",
   "execution_count": 16,
   "id": "deecedb0-7ee5-4595-adc8-d8b15f5d12b9",
   "metadata": {},
   "outputs": [
    {
     "data": {
      "text/plain": [
       "MATERIAL\n",
       "CI    56.773212\n",
       "DI    52.820513\n",
       "dtype: float64"
      ]
     },
     "execution_count": 16,
     "metadata": {},
     "output_type": "execute_result"
    }
   ],
   "source": [
    "#Get exact percentages\n",
    "percentage_breaks_clean"
   ]
  },
  {
   "cell_type": "code",
   "execution_count": 17,
   "id": "447daaac-b7e3-42b2-97a7-0bab942c616e",
   "metadata": {},
   "outputs": [],
   "source": [
    "#From the findings I am going to get rid of everything besides CI / cast iron and DI / ductile iron because there is not enough of the other materials for them to be\n",
    "#included in the findings\n",
    "dropped_df = clean_df[clean_df['MATERIAL'].isin(['CI','DI'])]"
   ]
  },
  {
   "cell_type": "code",
   "execution_count": 18,
   "id": "9f4efaff-edf3-402c-9c06-94bf5d71d9dd",
   "metadata": {},
   "outputs": [
    {
     "data": {
      "image/png": "[encoded data removed]",
      "text/plain": [
       "<Figure size 1000x600 with 1 Axes>"
      ]
     },
     "metadata": {},
     "output_type": "display_data"
    }
   ],
   "source": [
    "# Grouping by 'MATERIAL' and calculating the mean 'Pipe_Life' for each material\n",
    "material_pipe_life_2 = dropped_df.groupby('MATERIAL')['Pipe_Life'].mean()\n",
    "\n",
    "# Creating a bar plot\n",
    "plt.figure(figsize=(10, 6))\n",
    "material_pipe_life_2.plot(kind='bar', color='skyblue')\n",
    "plt.title('Average Pipe Life by Material')\n",
    "plt.xlabel('Material')\n",
    "plt.ylabel('Average Pipe Life (Years)')\n",
    "plt.xticks(rotation=45)\n",
    "plt.show()"
   ]
  },
  {
   "cell_type": "code",
   "execution_count": 19,
   "id": "f1755054-7a83-4e91-b0f6-c49d83726de4",
   "metadata": {},
   "outputs": [
    {
     "data": {
      "text/plain": [
       "MATERIAL\n",
       "CI    70.602941\n",
       "DI    45.030000\n",
       "Name: Pipe_Life, dtype: float64"
      ]
     },
     "execution_count": 19,
     "metadata": {},
     "output_type": "execute_result"
    }
   ],
   "source": [
    "#Get the exact number of average pipe life\n",
    "material_pipe_life_2"
   ]
  },
  {
   "cell_type": "code",
   "execution_count": 20,
   "id": "ae021dec-494b-48eb-a899-c8f34fae3d30",
   "metadata": {},
   "outputs": [
    {
     "data": {
      "text/plain": [
       "MATERIAL\n",
       "CI   1945-05-08 13:24:42.352941184\n",
       "DI   1971-02-01 06:14:24.000000000\n",
       "Name: INSTALLDAT, dtype: datetime64[ns]"
      ]
     },
     "execution_count": 20,
     "metadata": {},
     "output_type": "execute_result"
    }
   ],
   "source": [
    "#Curious about the install date of each of these materials to see if one is no longer used\n",
    "dropped_df.groupby('MATERIAL')['INSTALLDAT'].mean()"
   ]
  },
  {
   "cell_type": "code",
   "execution_count": 21,
   "id": "cf767b95-3379-49b4-999f-cd43ff10d251",
   "metadata": {},
   "outputs": [
    {
     "data": {
      "text/plain": [
       "MATERIAL\n",
       "AC      310\n",
       "CI      601\n",
       "DI      853\n",
       "HDPE    324\n",
       "PVC     309\n",
       "ST      492\n",
       "STL     517\n",
       "Name: INSTALLDAT, dtype: int64"
      ]
     },
     "execution_count": 21,
     "metadata": {},
     "output_type": "execute_result"
    }
   ],
   "source": [
    "#Looking to see when the last time each type of material was installed from the orginal dataframe so broken or not\n",
    "merged_df.groupby('MATERIAL')['INSTALLDAT'].idxmax()\n"
   ]
  },
  {
   "cell_type": "code",
   "execution_count": 22,
   "id": "a80af96b-c144-4c29-97df-199afa2b4cc5",
   "metadata": {},
   "outputs": [
    {
     "data": {
      "text/plain": [
       "ENABLED                             1\n",
       "FACILITYID                   00-18618\n",
       "LOCATION                          NaN\n",
       "INSTALLDAT        1966-12-19 00:00:00\n",
       "SUBTYPE                             1\n",
       "                         ...         \n",
       "SR Closed By                      NaN\n",
       "SR Date Closed                    NaN\n",
       "SR Priority                       NaN\n",
       "SR Status                         NaN\n",
       "SR Address                        NaN\n",
       "Name: 601, Length: 94, dtype: object"
      ]
     },
     "execution_count": 22,
     "metadata": {},
     "output_type": "execute_result"
    }
   ],
   "source": [
    "#Showing that last time Cast Iron was installed was 1966\n",
    "merged_df.loc[601]"
   ]
  },
  {
   "cell_type": "code",
   "execution_count": 23,
   "id": "089b49b5-c460-42bc-b2ce-d575745d3eea",
   "metadata": {},
   "outputs": [
    {
     "data": {
      "text/plain": [
       "MATERIAL\n",
       "AC      419\n",
       "CI       69\n",
       "DI      121\n",
       "HDPE    324\n",
       "PVC     309\n",
       "ST      492\n",
       "STL     495\n",
       "Name: INSTALLDAT, dtype: int64"
      ]
     },
     "execution_count": 23,
     "metadata": {},
     "output_type": "execute_result"
    }
   ],
   "source": [
    "#Looking to see the first time ductile iron was used for a water main\n",
    "merged_df.groupby('MATERIAL')['INSTALLDAT'].idxmin()\n"
   ]
  },
  {
   "cell_type": "code",
   "execution_count": 24,
   "id": "db69c3b1-0d06-49fe-8d4e-d2ab89b96076",
   "metadata": {},
   "outputs": [
    {
     "data": {
      "text/plain": [
       "ENABLED                             1\n",
       "FACILITYID                   00-14644\n",
       "LOCATION                          NaN\n",
       "INSTALLDAT        1950-01-01 00:00:00\n",
       "SUBTYPE                             1\n",
       "                         ...         \n",
       "SR Closed By                   user21\n",
       "SR Date Closed         3/5/2015 10:39\n",
       "SR Priority                       2.0\n",
       "SR Status                      CLOSED\n",
       "SR Address              830 HEWETT DR\n",
       "Name: 121, Length: 94, dtype: object"
      ]
     },
     "execution_count": 24,
     "metadata": {},
     "output_type": "execute_result"
    }
   ],
   "source": [
    "#Used to see the first time Ductile iron was used for a water main\n",
    "merged_df.loc[121]"
   ]
  },
  {
   "cell_type": "code",
   "execution_count": 25,
   "id": "e4402eca-0a78-4174-8259-5a54d0e12235",
   "metadata": {},
   "outputs": [
    {
     "data": {
      "text/plain": [
       "MATERIAL  Priority\n",
       "CI        1.0         356\n",
       "          2.0           1\n",
       "          3.0          13\n",
       "DI        1.0          98\n",
       "          3.0           4\n",
       "dtype: int64"
      ]
     },
     "execution_count": 25,
     "metadata": {},
     "output_type": "execute_result"
    }
   ],
   "source": [
    "#checking to see if the priority of breaks is playing a factor from cast iron and ductile iron\n",
    "dropped_df.groupby(['MATERIAL', 'Priority']).size()"
   ]
  },
  {
   "cell_type": "code",
   "execution_count": 26,
   "id": "238e4595-a659-4fe9-b2a3-bc50a929649d",
   "metadata": {},
   "outputs": [
    {
     "data": {
      "text/plain": [
       "ENABLED                     1\n",
       "FACILITYID           00-19879\n",
       "LOCATION          N Ashley St\n",
       "INSTALLDAT                NaT\n",
       "SUBTYPE                     1\n",
       "                     ...     \n",
       "SR Closed By              NaN\n",
       "SR Date Closed            NaN\n",
       "SR Priority               NaN\n",
       "SR Status                 NaN\n",
       "SR Address                NaN\n",
       "Name: 642, Length: 94, dtype: object"
      ]
     },
     "execution_count": 26,
     "metadata": {},
     "output_type": "execute_result"
    }
   ],
   "source": [
    "#needed to see the first time cast iron was used \n",
    "merged_df.loc[642]"
   ]
  },
  {
   "cell_type": "code",
   "execution_count": 27,
   "id": "7520d0f2-e53c-43b7-8018-8fa9b830e61f",
   "metadata": {},
   "outputs": [
    {
     "name": "stdout",
     "output_type": "stream",
     "text": [
      "MATERIAL    CI  DI\n",
      "Pipe_Life         \n",
      "0-9          0   0\n",
      "10-19        0   0\n",
      "20-29        0   0\n",
      "30-39        0   0\n",
      "40-49        0   0\n",
      "50-59      101  44\n",
      "60-69      109   5\n",
      "70-79       49   0\n",
      "80-89        0   0\n",
      "90-99        0   0\n",
      "100-109      0   0\n",
      "110-119      0   0\n"
     ]
    }
   ],
   "source": [
    "#this code will allow me to see the different makeup of material contributing to the amount of breaks in age bins 50-79\n",
    "# Create age bins\n",
    "max_pipe_life = int(clean_df['Pipe_Life'].max())\n",
    "bins = list(range(0, max_pipe_life + 11, 10))\n",
    "labels = [f\"{x}-{x+9}\" for x in range(0, max_pipe_life + 1, 10)]\n",
    "\n",
    "# Filter rows where 'Actual Start' is not null\n",
    "broken_df = dropped_df.dropna(subset=['Actual Start'])\n",
    "\n",
    "# Filter rows where 'Pipe_Life' falls within the 50-79 age range\n",
    "age_range_df = broken_df[(broken_df['Pipe_Life'] >= 50) & (broken_df['Pipe_Life'] <= 79)]\n",
    "\n",
    "# Group age_range_df by age bins and 'MATERIAL', then calculate the count of materials in each bin\n",
    "material_counts_50_to_79 = age_range_df.groupby([pd.cut(age_range_df['Pipe_Life'], bins=bins, labels=labels, right=False), 'MATERIAL']).size().unstack(fill_value=0)\n",
    "\n",
    "print(material_counts_50_to_79)\n"
   ]
  },
  {
   "cell_type": "code",
   "execution_count": 28,
   "id": "65af358d-a817-4c5f-8464-9f9fa58f4c6d",
   "metadata": {},
   "outputs": [
    {
     "data": {
      "text/plain": [
       "MATERIAL\n",
       "CI    373\n",
       "DI    103\n",
       "dtype: int64"
      ]
     },
     "execution_count": 28,
     "metadata": {},
     "output_type": "execute_result"
    }
   ],
   "source": [
    "#I want to see the total amount of breaks per material\n",
    "dropped_df.groupby('MATERIAL').size()"
   ]
  },
  {
   "cell_type": "code",
   "execution_count": 29,
   "id": "09f8d318-574c-4dd4-ba81-25bfed17e610",
   "metadata": {},
   "outputs": [
    {
     "name": "stdout",
     "output_type": "stream",
     "text": [
      "MATERIAL\n",
      "CI    84.090909\n",
      "DI    15.909091\n",
      "dtype: float64\n"
     ]
    }
   ],
   "source": [
    "#To see the percentage of water mains for each material that broke within the age range of 50-79.\n",
    "# Filter rows in 'dropped_df' where 'Actual Start' is not null\n",
    "filtered_df = dropped_df.dropna(subset=['Actual Start'])\n",
    "\n",
    "# Filter rows in 'filtered_df' where 'Pipe_Life' falls within the 50-79 age range\n",
    "age_filtered_df = filtered_df[(filtered_df['Pipe_Life'] >= 50) & (filtered_df['Pipe_Life'] <= 79)]\n",
    "\n",
    "# Group 'age_filtered_df' by 'MATERIAL' and calculate the percentage of breaks\n",
    "percentage_breaks_by_material = age_filtered_df.groupby('MATERIAL').size() / age_filtered_df.shape[0] * 100\n",
    "\n",
    "print(percentage_breaks_by_material)\n"
   ]
  }
 ],
 "metadata": {
  "kernelspec": {
   "display_name": "Python 3 [3.10]",
   "language": "python",
   "name": "python3"
  },
  "language_info": {
   "codemirror_mode": {
    "name": "ipython",
    "version": 3
   },
   "file_extension": ".py",
   "mimetype": "text/x-python",
   "name": "python",
   "nbconvert_exporter": "python",
   "pygments_lexer": "ipython3",
   "version": "3.8.10"
  }
 },
 "nbformat": 4,
 "nbformat_minor": 5
}
