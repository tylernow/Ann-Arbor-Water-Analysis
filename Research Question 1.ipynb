{
 "cells": [
  {
   "cell_type": "markdown",
   "id": "b9326eb5",
   "metadata": {},
   "source": [
    "# RQ1 Analysis\n",
    "[How does the aging water infrastructure in Ann Arbor impact the frequency and\n",
    "severity of water main breaks?]"
   ]
  },
  {
   "cell_type": "code",
   "execution_count": 1,
   "id": "0d5b2222",
   "metadata": {},
   "outputs": [],
   "source": [
    "#load libraries\n",
    "import pandas as pd\n",
    "import matplotlib.pyplot as plt"
   ]
  },
  {
   "cell_type": "markdown",
   "id": "4bff12a7-55da-4f5e-a540-3f799a64605d",
   "metadata": {},
   "source": [
    "## Merge the datasets \n",
    "Merge the data sets watermain attributes and watermain breaks so I can see when the watermains were installed and when they break"
   ]
  },
  {
   "cell_type": "code",
   "execution_count": 2,
   "id": "8f8864cc-cb42-407c-8a54-8683e2136b1b",
   "metadata": {},
   "outputs": [],
   "source": [
    "#read in both datasets\n",
    "watermain_att = pd.read_csv('Watermain_Attributes.csv')\n",
    "water_breaks = pd.read_csv('Watermain_Breaks_Reporting.csv')"
   ]
  },
  {
   "cell_type": "code",
   "execution_count": 16,
   "id": "26f49e9d",
   "metadata": {},
   "outputs": [
    {
     "data": {
      "text/html": [
       "<div>\n",
       "<style scoped>\n",
       "    .dataframe tbody tr th:only-of-type {\n",
       "        vertical-align: middle;\n",
       "    }\n",
       "\n",
       "    .dataframe tbody tr th {\n",
       "        vertical-align: top;\n",
       "    }\n",
       "\n",
       "    .dataframe thead th {\n",
       "        text-align: right;\n",
       "    }\n",
       "</style>\n",
       "<table border=\"1\" class=\"dataframe\">\n",
       "  <thead>\n",
       "    <tr style=\"text-align: right;\">\n",
       "      <th></th>\n",
       "      <th>Work Order ID</th>\n",
       "      <th>Priority</th>\n",
       "      <th>Total Cost</th>\n",
       "      <th>Labor Cost</th>\n",
       "      <th>Material Cost</th>\n",
       "      <th>Equipment Cost</th>\n",
       "      <th>Permit Cost</th>\n",
       "      <th>Parent WOID</th>\n",
       "      <th>Total Assets</th>\n",
       "      <th>Init. Hour</th>\n",
       "      <th>Init. Day of Month</th>\n",
       "      <th>Init. Month</th>\n",
       "      <th>Init. Year</th>\n",
       "      <th>WO Sid</th>\n",
       "      <th>SR Priority</th>\n",
       "    </tr>\n",
       "  </thead>\n",
       "  <tbody>\n",
       "    <tr>\n",
       "      <th>count</th>\n",
       "      <td>966.000000</td>\n",
       "      <td>963.000000</td>\n",
       "      <td>966.000000</td>\n",
       "      <td>966.000000</td>\n",
       "      <td>966.000000</td>\n",
       "      <td>966.000000</td>\n",
       "      <td>966.0</td>\n",
       "      <td>4.000000</td>\n",
       "      <td>966.000000</td>\n",
       "      <td>966.000000</td>\n",
       "      <td>966.000000</td>\n",
       "      <td>966.000000</td>\n",
       "      <td>966.000000</td>\n",
       "      <td>966.000000</td>\n",
       "      <td>592.000000</td>\n",
       "    </tr>\n",
       "    <tr>\n",
       "      <th>mean</th>\n",
       "      <td>581500.650104</td>\n",
       "      <td>1.047767</td>\n",
       "      <td>2969.899739</td>\n",
       "      <td>1128.494875</td>\n",
       "      <td>506.838193</td>\n",
       "      <td>1334.566816</td>\n",
       "      <td>0.0</td>\n",
       "      <td>554152.500000</td>\n",
       "      <td>1.043478</td>\n",
       "      <td>10.713251</td>\n",
       "      <td>16.006211</td>\n",
       "      <td>6.055901</td>\n",
       "      <td>2017.898551</td>\n",
       "      <td>486387.363354</td>\n",
       "      <td>2.089527</td>\n",
       "    </tr>\n",
       "    <tr>\n",
       "      <th>std</th>\n",
       "      <td>149889.958045</td>\n",
       "      <td>0.302111</td>\n",
       "      <td>3242.213003</td>\n",
       "      <td>1189.191311</td>\n",
       "      <td>946.688858</td>\n",
       "      <td>1497.617987</td>\n",
       "      <td>0.0</td>\n",
       "      <td>190200.269726</td>\n",
       "      <td>0.352892</td>\n",
       "      <td>4.332737</td>\n",
       "      <td>8.870979</td>\n",
       "      <td>4.080661</td>\n",
       "      <td>3.115407</td>\n",
       "      <td>206479.414703</td>\n",
       "      <td>0.324559</td>\n",
       "    </tr>\n",
       "    <tr>\n",
       "      <th>min</th>\n",
       "      <td>332757.000000</td>\n",
       "      <td>1.000000</td>\n",
       "      <td>0.000000</td>\n",
       "      <td>0.000000</td>\n",
       "      <td>0.000000</td>\n",
       "      <td>0.000000</td>\n",
       "      <td>0.0</td>\n",
       "      <td>369568.000000</td>\n",
       "      <td>1.000000</td>\n",
       "      <td>0.000000</td>\n",
       "      <td>1.000000</td>\n",
       "      <td>1.000000</td>\n",
       "      <td>2013.000000</td>\n",
       "      <td>207319.000000</td>\n",
       "      <td>1.000000</td>\n",
       "    </tr>\n",
       "    <tr>\n",
       "      <th>25%</th>\n",
       "      <td>454345.750000</td>\n",
       "      <td>1.000000</td>\n",
       "      <td>1897.297500</td>\n",
       "      <td>641.567500</td>\n",
       "      <td>186.097500</td>\n",
       "      <td>741.047500</td>\n",
       "      <td>0.0</td>\n",
       "      <td>414259.000000</td>\n",
       "      <td>1.000000</td>\n",
       "      <td>8.000000</td>\n",
       "      <td>8.000000</td>\n",
       "      <td>2.000000</td>\n",
       "      <td>2015.000000</td>\n",
       "      <td>313407.500000</td>\n",
       "      <td>2.000000</td>\n",
       "    </tr>\n",
       "    <tr>\n",
       "      <th>50%</th>\n",
       "      <td>574446.500000</td>\n",
       "      <td>1.000000</td>\n",
       "      <td>2575.539250</td>\n",
       "      <td>989.787500</td>\n",
       "      <td>332.228580</td>\n",
       "      <td>1151.185000</td>\n",
       "      <td>0.0</td>\n",
       "      <td>532116.000000</td>\n",
       "      <td>1.000000</td>\n",
       "      <td>10.500000</td>\n",
       "      <td>16.000000</td>\n",
       "      <td>6.000000</td>\n",
       "      <td>2018.000000</td>\n",
       "      <td>423879.500000</td>\n",
       "      <td>2.000000</td>\n",
       "    </tr>\n",
       "    <tr>\n",
       "      <th>75%</th>\n",
       "      <td>701749.000000</td>\n",
       "      <td>1.000000</td>\n",
       "      <td>3576.627980</td>\n",
       "      <td>1415.902500</td>\n",
       "      <td>510.393375</td>\n",
       "      <td>1664.653750</td>\n",
       "      <td>0.0</td>\n",
       "      <td>672009.500000</td>\n",
       "      <td>1.000000</td>\n",
       "      <td>13.000000</td>\n",
       "      <td>24.000000</td>\n",
       "      <td>10.000000</td>\n",
       "      <td>2021.000000</td>\n",
       "      <td>701749.000000</td>\n",
       "      <td>2.000000</td>\n",
       "    </tr>\n",
       "    <tr>\n",
       "      <th>max</th>\n",
       "      <td>865968.000000</td>\n",
       "      <td>3.000000</td>\n",
       "      <td>65396.758370</td>\n",
       "      <td>23381.852500</td>\n",
       "      <td>19273.418500</td>\n",
       "      <td>33643.717500</td>\n",
       "      <td>0.0</td>\n",
       "      <td>782810.000000</td>\n",
       "      <td>7.000000</td>\n",
       "      <td>23.000000</td>\n",
       "      <td>31.000000</td>\n",
       "      <td>12.000000</td>\n",
       "      <td>2023.000000</td>\n",
       "      <td>865968.000000</td>\n",
       "      <td>4.000000</td>\n",
       "    </tr>\n",
       "  </tbody>\n",
       "</table>\n",
       "</div>"
      ],
      "text/plain": [
       "       Work Order ID    Priority    Total Cost    Labor Cost  Material Cost  \\\n",
       "count     966.000000  963.000000    966.000000    966.000000     966.000000   \n",
       "mean   581500.650104    1.047767   2969.899739   1128.494875     506.838193   \n",
       "std    149889.958045    0.302111   3242.213003   1189.191311     946.688858   \n",
       "min    332757.000000    1.000000      0.000000      0.000000       0.000000   \n",
       "25%    454345.750000    1.000000   1897.297500    641.567500     186.097500   \n",
       "50%    574446.500000    1.000000   2575.539250    989.787500     332.228580   \n",
       "75%    701749.000000    1.000000   3576.627980   1415.902500     510.393375   \n",
       "max    865968.000000    3.000000  65396.758370  23381.852500   19273.418500   \n",
       "\n",
       "       Equipment Cost  Permit Cost    Parent WOID  Total Assets  Init. Hour  \\\n",
       "count      966.000000        966.0       4.000000    966.000000  966.000000   \n",
       "mean      1334.566816          0.0  554152.500000      1.043478   10.713251   \n",
       "std       1497.617987          0.0  190200.269726      0.352892    4.332737   \n",
       "min          0.000000          0.0  369568.000000      1.000000    0.000000   \n",
       "25%        741.047500          0.0  414259.000000      1.000000    8.000000   \n",
       "50%       1151.185000          0.0  532116.000000      1.000000   10.500000   \n",
       "75%       1664.653750          0.0  672009.500000      1.000000   13.000000   \n",
       "max      33643.717500          0.0  782810.000000      7.000000   23.000000   \n",
       "\n",
       "       Init. Day of Month  Init. Month   Init. Year         WO Sid  \\\n",
       "count          966.000000   966.000000   966.000000     966.000000   \n",
       "mean            16.006211     6.055901  2017.898551  486387.363354   \n",
       "std              8.870979     4.080661     3.115407  206479.414703   \n",
       "min              1.000000     1.000000  2013.000000  207319.000000   \n",
       "25%              8.000000     2.000000  2015.000000  313407.500000   \n",
       "50%             16.000000     6.000000  2018.000000  423879.500000   \n",
       "75%             24.000000    10.000000  2021.000000  701749.000000   \n",
       "max             31.000000    12.000000  2023.000000  865968.000000   \n",
       "\n",
       "       SR Priority  \n",
       "count   592.000000  \n",
       "mean      2.089527  \n",
       "std       0.324559  \n",
       "min       1.000000  \n",
       "25%       2.000000  \n",
       "50%       2.000000  \n",
       "75%       2.000000  \n",
       "max       4.000000  "
      ]
     },
     "execution_count": 16,
     "metadata": {},
     "output_type": "execute_result"
    }
   ],
   "source": [
    "water_breaks.describe()"
   ]
  },
  {
   "cell_type": "code",
   "execution_count": 3,
   "id": "dc6830e3-9578-4cb6-9e6c-703adefa1269",
   "metadata": {},
   "outputs": [],
   "source": [
    "#Changing watermain_att column for work order ids to match the water_breaks column so i can merge the datasets\n",
    "watermain_att = watermain_att.rename(columns = {'WORKORDERI': 'Work Order ID'})"
   ]
  },
  {
   "cell_type": "code",
   "execution_count": 4,
   "id": "858029c2-3132-4ace-9b63-088d8babea49",
   "metadata": {},
   "outputs": [],
   "source": [
    "#merging the two data sets\n",
    "merged_df = pd.merge(watermain_att, water_breaks, on='Work Order ID')"
   ]
  },
  {
   "cell_type": "code",
   "execution_count": 17,
   "id": "05736b18-7293-4f6d-878a-83eab0d166cb",
   "metadata": {},
   "outputs": [],
   "source": [
    "#changing the column installdat to datetime so it is easier to work with\n",
    "merged_df['INSTALLDAT'] = pd.to_datetime(merged_df['INSTALLDAT'], errors='coerce')"
   ]
  },
  {
   "cell_type": "code",
   "execution_count": 18,
   "id": "f316c62c-d1bb-4bf6-912d-3c83a3d51cf0",
   "metadata": {},
   "outputs": [
    {
     "data": {
      "text/plain": [
       "(862, 94)"
      ]
     },
     "execution_count": 18,
     "metadata": {},
     "output_type": "execute_result"
    }
   ],
   "source": [
    "merged_df.shape"
   ]
  },
  {
   "cell_type": "markdown",
   "id": "e5cd3812-11d3-41b7-8517-4258174b2d38",
   "metadata": {},
   "source": [
    "## Clean the merged data \n",
    "Get rid of columns that I will not be looking at to make the data easier to read"
   ]
  },
  {
   "cell_type": "code",
   "execution_count": 19,
   "id": "85d6c2fd-ee92-4d00-9733-be56f4251aab",
   "metadata": {},
   "outputs": [],
   "source": [
    "#Only keeping the columns that I will be working with to make the data more readable\n",
    "clean_df = merged_df[['Work Order ID', 'LOCATION', 'Priority', 'Actual Start', 'Actual Finish',\n",
    "                     'Canceled', 'INSTALLDAT']].copy()\n",
    "# Change the Actual Start into a date time object so I can make a new column using start and install date\n",
    "clean_df['Actual Start'] = pd.to_datetime(clean_df['Actual Start'])\n"
   ]
  },
  {
   "cell_type": "code",
   "execution_count": 20,
   "id": "cd46ae9d-2257-49f3-80c2-79b43a287a9e",
   "metadata": {},
   "outputs": [],
   "source": [
    "#Decided to drop rows that contain a null value in the actual start because I do not know when the watermain break\n",
    "# occured and that could hurt the data\n",
    "df_dropped = clean_df.dropna(subset = ['Actual Start']).copy()"
   ]
  },
  {
   "cell_type": "code",
   "execution_count": 21,
   "id": "7da5b156-1dc6-43e0-bf91-3dae7d82ed70",
   "metadata": {},
   "outputs": [
    {
     "data": {
      "text/html": [
       "<div>\n",
       "<style scoped>\n",
       "    .dataframe tbody tr th:only-of-type {\n",
       "        vertical-align: middle;\n",
       "    }\n",
       "\n",
       "    .dataframe tbody tr th {\n",
       "        vertical-align: top;\n",
       "    }\n",
       "\n",
       "    .dataframe thead th {\n",
       "        text-align: right;\n",
       "    }\n",
       "</style>\n",
       "<table border=\"1\" class=\"dataframe\">\n",
       "  <thead>\n",
       "    <tr style=\"text-align: right;\">\n",
       "      <th></th>\n",
       "      <th>Work Order ID</th>\n",
       "      <th>LOCATION</th>\n",
       "      <th>Priority</th>\n",
       "      <th>Actual Start</th>\n",
       "      <th>Actual Finish</th>\n",
       "      <th>Canceled</th>\n",
       "      <th>INSTALLDAT</th>\n",
       "      <th>Pipe_Life</th>\n",
       "    </tr>\n",
       "  </thead>\n",
       "  <tbody>\n",
       "    <tr>\n",
       "      <th>1</th>\n",
       "      <td>348836</td>\n",
       "      <td>Marlborough</td>\n",
       "      <td>1.0</td>\n",
       "      <td>2013-05-20 00:00:00</td>\n",
       "      <td>5/21/2013 0:00</td>\n",
       "      <td>N</td>\n",
       "      <td>1962-06-30</td>\n",
       "      <td>51.0</td>\n",
       "    </tr>\n",
       "    <tr>\n",
       "      <th>2</th>\n",
       "      <td>465957</td>\n",
       "      <td>Platt Rd</td>\n",
       "      <td>1.0</td>\n",
       "      <td>2015-08-03 13:29:00</td>\n",
       "      <td>8/3/2015 13:29</td>\n",
       "      <td>N</td>\n",
       "      <td>1978-07-24</td>\n",
       "      <td>37.0</td>\n",
       "    </tr>\n",
       "    <tr>\n",
       "      <th>3</th>\n",
       "      <td>382769</td>\n",
       "      <td>Platt Rd</td>\n",
       "      <td>1.0</td>\n",
       "      <td>2014-01-22 00:00:00</td>\n",
       "      <td>1/22/2014 0:00</td>\n",
       "      <td>N</td>\n",
       "      <td>1978-07-24</td>\n",
       "      <td>36.0</td>\n",
       "    </tr>\n",
       "    <tr>\n",
       "      <th>4</th>\n",
       "      <td>436334</td>\n",
       "      <td>Platt Rd</td>\n",
       "      <td>1.0</td>\n",
       "      <td>2015-01-31 00:00:00</td>\n",
       "      <td>1/31/2015 0:00</td>\n",
       "      <td>N</td>\n",
       "      <td>1960-01-01</td>\n",
       "      <td>55.0</td>\n",
       "    </tr>\n",
       "    <tr>\n",
       "      <th>5</th>\n",
       "      <td>476022</td>\n",
       "      <td>NaN</td>\n",
       "      <td>1.0</td>\n",
       "      <td>2015-12-08 00:00:00</td>\n",
       "      <td>12/8/2015 0:00</td>\n",
       "      <td>N</td>\n",
       "      <td>1960-01-01</td>\n",
       "      <td>55.0</td>\n",
       "    </tr>\n",
       "    <tr>\n",
       "      <th>...</th>\n",
       "      <td>...</td>\n",
       "      <td>...</td>\n",
       "      <td>...</td>\n",
       "      <td>...</td>\n",
       "      <td>...</td>\n",
       "      <td>...</td>\n",
       "      <td>...</td>\n",
       "      <td>...</td>\n",
       "    </tr>\n",
       "    <tr>\n",
       "      <th>854</th>\n",
       "      <td>592400</td>\n",
       "      <td>Crest Ave</td>\n",
       "      <td>1.0</td>\n",
       "      <td>2018-12-12 06:00:00</td>\n",
       "      <td>12/12/2018 14:30</td>\n",
       "      <td>N</td>\n",
       "      <td>1940-01-01</td>\n",
       "      <td>78.0</td>\n",
       "    </tr>\n",
       "    <tr>\n",
       "      <th>855</th>\n",
       "      <td>477315</td>\n",
       "      <td>Fernwood Ave</td>\n",
       "      <td>1.0</td>\n",
       "      <td>2016-01-06 00:00:00</td>\n",
       "      <td>1/6/2016 6:00</td>\n",
       "      <td>N</td>\n",
       "      <td>1940-01-01</td>\n",
       "      <td>76.0</td>\n",
       "    </tr>\n",
       "    <tr>\n",
       "      <th>857</th>\n",
       "      <td>335133</td>\n",
       "      <td>NaN</td>\n",
       "      <td>1.0</td>\n",
       "      <td>2013-01-28 00:00:00</td>\n",
       "      <td>1/28/2013 0:00</td>\n",
       "      <td>N</td>\n",
       "      <td>1950-01-01</td>\n",
       "      <td>63.0</td>\n",
       "    </tr>\n",
       "    <tr>\n",
       "      <th>860</th>\n",
       "      <td>758090</td>\n",
       "      <td>Pomona Rd</td>\n",
       "      <td>1.0</td>\n",
       "      <td>2021-11-20 01:30:00</td>\n",
       "      <td>11/20/2021 9:30</td>\n",
       "      <td>N</td>\n",
       "      <td>1960-01-01</td>\n",
       "      <td>61.0</td>\n",
       "    </tr>\n",
       "    <tr>\n",
       "      <th>861</th>\n",
       "      <td>832157</td>\n",
       "      <td>Prairie St</td>\n",
       "      <td>1.0</td>\n",
       "      <td>2023-02-23 18:10:00</td>\n",
       "      <td>2/23/2023 22:42</td>\n",
       "      <td>N</td>\n",
       "      <td>1961-04-04</td>\n",
       "      <td>62.0</td>\n",
       "    </tr>\n",
       "  </tbody>\n",
       "</table>\n",
       "<p>489 rows × 8 columns</p>\n",
       "</div>"
      ],
      "text/plain": [
       "     Work Order ID      LOCATION  Priority        Actual Start  \\\n",
       "1           348836   Marlborough       1.0 2013-05-20 00:00:00   \n",
       "2           465957      Platt Rd       1.0 2015-08-03 13:29:00   \n",
       "3           382769      Platt Rd       1.0 2014-01-22 00:00:00   \n",
       "4           436334      Platt Rd       1.0 2015-01-31 00:00:00   \n",
       "5           476022           NaN       1.0 2015-12-08 00:00:00   \n",
       "..             ...           ...       ...                 ...   \n",
       "854         592400     Crest Ave       1.0 2018-12-12 06:00:00   \n",
       "855         477315  Fernwood Ave       1.0 2016-01-06 00:00:00   \n",
       "857         335133           NaN       1.0 2013-01-28 00:00:00   \n",
       "860         758090     Pomona Rd       1.0 2021-11-20 01:30:00   \n",
       "861         832157    Prairie St       1.0 2023-02-23 18:10:00   \n",
       "\n",
       "        Actual Finish Canceled INSTALLDAT  Pipe_Life  \n",
       "1      5/21/2013 0:00        N 1962-06-30       51.0  \n",
       "2      8/3/2015 13:29        N 1978-07-24       37.0  \n",
       "3      1/22/2014 0:00        N 1978-07-24       36.0  \n",
       "4      1/31/2015 0:00        N 1960-01-01       55.0  \n",
       "5      12/8/2015 0:00        N 1960-01-01       55.0  \n",
       "..                ...      ...        ...        ...  \n",
       "854  12/12/2018 14:30        N 1940-01-01       78.0  \n",
       "855     1/6/2016 6:00        N 1940-01-01       76.0  \n",
       "857    1/28/2013 0:00        N 1950-01-01       63.0  \n",
       "860   11/20/2021 9:30        N 1960-01-01       61.0  \n",
       "861   2/23/2023 22:42        N 1961-04-04       62.0  \n",
       "\n",
       "[489 rows x 8 columns]"
      ]
     },
     "execution_count": 21,
     "metadata": {},
     "output_type": "execute_result"
    }
   ],
   "source": [
    "#Create the new column pipe age that represents how long the pipe went without breaking\n",
    "df_dropped['Pipe_Life'] = df_dropped['Actual Start'].dt.year - df_dropped['INSTALLDAT'].dt.year\n",
    "df_dropped"
   ]
  },
  {
   "cell_type": "markdown",
   "id": "1b5d8dbe-1b09-42b7-8297-4a6f72b184f2",
   "metadata": {},
   "source": [
    "## Graph for pipe_life and priority \n",
    "Below is the graph looking at if there is a correlation betweeen the priority level of a pipe's first break and if the pipe's age plays a factor"
   ]
  },
  {
   "cell_type": "code",
   "execution_count": 22,
   "id": "0a2d1c8b-e99a-4f44-a469-292d5e808d4b",
   "metadata": {},
   "outputs": [
    {
     "data": {
      "text/plain": [
       "<Axes: title={'center': 'Watermain Age Vs Priority'}, xlabel='Priority', ylabel='Average Watermain Age in Years'>"
      ]
     },
     "execution_count": 22,
     "metadata": {},
     "output_type": "execute_result"
    },
    {
     "data": {
      "image/png": "[encoded data removed]",
      "text/plain": [
       "<Figure size 640x480 with 1 Axes>"
      ]
     },
     "metadata": {},
     "output_type": "display_data"
    }
   ],
   "source": [
    "#Needed to groupby prio then take the pipe_life mean then plotted. \n",
    "df_dropped.groupby('Priority')['Pipe_Life'].mean().plot(kind = 'bar',\n",
    "                            title=\"Watermain Age Vs Priority\", ylabel=\"Average Watermain Age in Years\")"
   ]
  },
  {
   "cell_type": "code",
   "execution_count": 23,
   "id": "414ef4ec-6d29-495b-8bf0-945ba844cb1b",
   "metadata": {},
   "outputs": [
    {
     "data": {
      "text/plain": [
       "Priority\n",
       "1.0    467\n",
       "2.0      1\n",
       "3.0     17\n",
       "dtype: int64"
      ]
     },
     "execution_count": 23,
     "metadata": {},
     "output_type": "execute_result"
    }
   ],
   "source": [
    "#needed to see how many were in each priority level to make sure it holds value\n",
    "df_dropped.groupby('Priority').size()"
   ]
  },
  {
   "cell_type": "markdown",
   "id": "489dd5cb-1ac3-415f-bcba-6e2409b049b0",
   "metadata": {},
   "source": [
    "## Analysis for pipe_life and priority graph\n",
    "The graph above shows that there is not a direct correlation between a pipe's life and the priority of the break when it does happen. The averages of the first break for a watermain are about the same for each priority level, so there is not a significant enough difference for it to be of importance. Therefore the age of the watermain does not play a role in the severity of the watermain break. "
   ]
  },
  {
   "cell_type": "markdown",
   "id": "9177f4d6-e4a7-4f82-a3ca-864e8e5481e9",
   "metadata": {},
   "source": [
    "## Code for frequency of breaks based on pipe life"
   ]
  },
  {
   "cell_type": "code",
   "execution_count": 24,
   "id": "8c0e6384-15f4-4087-9082-f943e7fdb24d",
   "metadata": {},
   "outputs": [],
   "source": [
    "#Using the df_dropped dataframe again because the life span of the pipe could be different then the finished job\n",
    "#resetting index so its easier to use index if needed\n",
    "df_dropped.reset_index(drop=True, inplace=True)"
   ]
  },
  {
   "cell_type": "code",
   "execution_count": 28,
   "id": "d38bc0d7-6b7e-4c70-bb8b-b77f27bee75f",
   "metadata": {},
   "outputs": [],
   "source": [
    "#Create bins that contain the pipe life for every 10 years\n",
    "max_pipe_life = int(df_dropped['Pipe_Life'].max())\n",
    "\n",
    "# Create bins for every 10 years\n",
    "bins = list(range(0, max_pipe_life + 11, 10))\n",
    "\n",
    "# Create labels for the bins\n",
    "labels = [f\"{x}-{x+9}\" for x in range(0, max_pipe_life + 1, 10)]\n",
    "\n",
    "# Use pd.cut() to create a new column with the bins\n",
    "df_dropped['Pipe_Life_Bins'] = pd.cut(df_dropped['Pipe_Life'], bins=bins, labels=labels, right=False)"
   ]
  },
  {
   "cell_type": "markdown",
   "id": "ff5791f4-b00b-4efd-8d25-29f1c8530fc6",
   "metadata": {},
   "source": [
    "## Graph of Watermain Breaks by Pipe Life Bins"
   ]
  },
  {
   "cell_type": "code",
   "execution_count": 29,
   "id": "645eb807-1100-4ec6-8381-6038eb2ddced",
   "metadata": {},
   "outputs": [
    {
     "data": {
      "image/png": "[encoded data removed]",
      "text/plain": [
       "<Figure size 1000x600 with 1 Axes>"
      ]
     },
     "metadata": {},
     "output_type": "display_data"
    }
   ],
   "source": [
    "# You can group the data by 'Pipe_Life_Bins' and calculate the sum of 'work order ids' in each bin \n",
    "breaks_by_life = df_dropped.groupby('Pipe_Life_Bins')['Work Order ID'].nunique()\n",
    "\n",
    "# Create a bar plot to visualize the relationship\n",
    "breaks_by_life.plot(kind='bar', figsize=(10, 6))\n",
    "plt.title('Watermain Breaks by Pipe Life Bins')\n",
    "plt.xlabel('Pipe Life Bins (years)')\n",
    "plt.ylabel('Number of Watermain Breaks')\n",
    "plt.xticks(rotation=45)\n",
    "plt.show()"
   ]
  },
  {
   "cell_type": "markdown",
   "id": "0b08336e-d8e0-4735-8d5d-b63b2f4259bb",
   "metadata": {},
   "source": [
    "## Anaylsis of Watermain Breaks by Pipe Life Bins"
   ]
  },
  {
   "cell_type": "markdown",
   "id": "ecf4b804-22af-4c5f-a60a-792608bd4f69",
   "metadata": {},
   "source": [
    "From the graph above we can see that the pipes tend to break in the 50-80 year period. This shows that the frequency of breaks happen in that age range. However, the watermain breaks do not continue to increase in frequency as the age of them gets older. We can see that after the period of 50-80 years the watermain breaks goes back down to only 10-20 from 80-140 years old. There could be a few other factors that potentially impact these results such as material type of the pipe and the soil it is surronded by. As I continue with my analysis my second research question will take the material the watermain is made with into consideration and I will be able to narrow down these results."
   ]
  },
  {
   "cell_type": "code",
   "execution_count": 30,
   "id": "eef05472-2932-42ab-b9a4-d4288b01570d",
   "metadata": {},
   "outputs": [],
   "source": [
    "# Create the new column 'Pipe_Life' that represents how long the pipe went without breaking\n",
    "clean_df['Pipe_Life'] = clean_df['Actual Start'].dt.year - clean_df['INSTALLDAT'].dt.year\n"
   ]
  },
  {
   "cell_type": "code",
   "execution_count": 31,
   "id": "cca42fbe-d35d-4649-90e1-24aec5aee69b",
   "metadata": {},
   "outputs": [],
   "source": [
    "#using 2024 as the current year because it will give more accurate results due to the pipe being closer to that age\n",
    "# Fill null values in 'Pipe_Life' with the calculated age as of 2024\n",
    "clean_df['Pipe_Life'].fillna(2024 - clean_df['INSTALLDAT'].dt.year, inplace=True)\n"
   ]
  },
  {
   "cell_type": "code",
   "execution_count": 32,
   "id": "08c7b79c-59c0-40d4-aa93-3f02ccb5f6ea",
   "metadata": {},
   "outputs": [
    {
     "data": {
      "text/plain": [
       "373"
      ]
     },
     "execution_count": 32,
     "metadata": {},
     "output_type": "execute_result"
    }
   ],
   "source": [
    "clean_df['Actual Start'].isna().sum()"
   ]
  },
  {
   "cell_type": "code",
   "execution_count": 33,
   "id": "ad6ed6a2-d4c2-42d3-b36e-fc474b06dd68",
   "metadata": {},
   "outputs": [
    {
     "data": {
      "image/png": "[encoded data removed]",
      "text/plain": [
       "<Figure size 1000x600 with 1 Axes>"
      ]
     },
     "metadata": {},
     "output_type": "display_data"
    }
   ],
   "source": [
    "# Create age bins\n",
    "max_pipe_life = int(clean_df['Pipe_Life'].max())\n",
    "bins = list(range(0, max_pipe_life + 11, 10))\n",
    "labels = [f\"{x}-{x+9}\" for x in range(0, max_pipe_life + 1, 10)]\n",
    "\n",
    "# Filter rows where 'Actual Start' is not null\n",
    "broken_df = clean_df.dropna(subset=['Actual Start'])\n",
    "\n",
    "# Group broken_df by age bins and calculate the count of broken pipes in each bin\n",
    "broken_df_counts = broken_df.groupby(pd.cut(broken_df['Pipe_Life'], bins=bins, labels=labels, right=False)).size()\n",
    "\n",
    "# Group clean_df by age bins and calculate the total count in each bin\n",
    "clean_df_counts = clean_df.groupby(pd.cut(clean_df['Pipe_Life'], bins=bins, labels=labels, right=False)).size()\n",
    "\n",
    "\n",
    "# Calculate the percentage of broken pipes in each age bin\n",
    "percentage_broken = (broken_df_counts / clean_df_counts) * 100\n",
    "\n",
    "# Plotting the data\n",
    "plt.figure(figsize=(10, 6))\n",
    "plt.bar(labels, percentage_broken)\n",
    "plt.xlabel('Pipe Life Bins (Years)')\n",
    "plt.ylabel('Percentage of Broken Pipes')\n",
    "plt.title('Percentage of Broken Pipes in Each Pipe Life Bin')\n",
    "plt.xticks(rotation=45)\n",
    "plt.show()"
   ]
  },
  {
   "cell_type": "code",
   "execution_count": 34,
   "id": "a286c36a-348c-45f3-ab34-d69e56b99a50",
   "metadata": {},
   "outputs": [
    {
     "data": {
      "text/plain": [
       "Pipe_Life\n",
       "0-9          6\n",
       "10-19        6\n",
       "20-29       12\n",
       "30-39       16\n",
       "40-49       38\n",
       "50-59      193\n",
       "60-69      221\n",
       "70-79      144\n",
       "80-89       41\n",
       "90-99       48\n",
       "100-109     46\n",
       "110-119     25\n",
       "120-129      7\n",
       "dtype: int64"
      ]
     },
     "execution_count": 34,
     "metadata": {},
     "output_type": "execute_result"
    }
   ],
   "source": [
    "clean_df_counts"
   ]
  },
  {
   "cell_type": "code",
   "execution_count": 35,
   "id": "a9fede34-aa28-40e4-9445-98d5d419015b",
   "metadata": {},
   "outputs": [
    {
     "data": {
      "text/plain": [
       "54.955157077223525"
      ]
     },
     "execution_count": 35,
     "metadata": {},
     "output_type": "execute_result"
    }
   ],
   "source": [
    "# Calculate the average percentage for ages between 50 and 79\n",
    "average_percentage_50_to_79 = percentage_broken.loc['50-59':'70-79'].mean()\n",
    "average_percentage_50_to_79"
   ]
  }
 ],
 "metadata": {
  "kernelspec": {
   "display_name": "Python 3 [3.10]",
   "language": "python",
   "name": "python3"
  },
  "language_info": {
   "codemirror_mode": {
    "name": "ipython",
    "version": 3
   },
   "file_extension": ".py",
   "mimetype": "text/x-python",
   "name": "python",
   "nbconvert_exporter": "python",
   "pygments_lexer": "ipython3",
   "version": "3.8.10"
  }
 },
 "nbformat": 4,
 "nbformat_minor": 5
}
